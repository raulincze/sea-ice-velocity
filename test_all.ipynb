{
  "nbformat": 4,
  "nbformat_minor": 0,
  "metadata": {
    "colab": {
      "name": "test_all.ipynb",
      "provenance": [],
      "collapsed_sections": []
    },
    "kernelspec": {
      "name": "python3",
      "display_name": "Python 3"
    },
    "accelerator": "GPU"
  },
  "cells": [
    {
      "cell_type": "code",
      "metadata": {
        "id": "v5Lu5jkcuTmK"
      },
      "source": [
        "import pandas as pd\r\n",
        "import numpy as np\r\n",
        "import random\r\n",
        "import tensorflow as tf"
      ],
      "execution_count": null,
      "outputs": []
    },
    {
      "cell_type": "code",
      "metadata": {
        "colab": {
          "base_uri": "https://localhost:8080/"
        },
        "id": "d7CajZW6udGB",
        "outputId": "cfc07034-ea08-4f71-f79a-b3f2642c0e11"
      },
      "source": [
        "from google.colab import drive\r\n",
        "drive.mount('/content/gdrive', force_remount=True)"
      ],
      "execution_count": null,
      "outputs": [
        {
          "output_type": "stream",
          "text": [
            "Mounted at /content/gdrive\n"
          ],
          "name": "stdout"
        }
      ]
    },
    {
      "cell_type": "markdown",
      "metadata": {
        "id": "WqSd0dhveNh2"
      },
      "source": [
        "# *Loading the data*"
      ]
    },
    {
      "cell_type": "code",
      "metadata": {
        "id": "rL7o7qvVuvuK"
      },
      "source": [
        "LOCATION_CSV_TRAIN = \"/content/gdrive/My Drive/Colab Notebooks/data-sea-ice/DRIFT_DATA_TRAIN.csv\"\r\n",
        "LOCATION_CSV_TEST = \"/content/gdrive/My Drive/Colab Notebooks/data-sea-ice/DRIFT_DATA_TEST.csv\""
      ],
      "execution_count": null,
      "outputs": []
    },
    {
      "cell_type": "code",
      "metadata": {
        "id": "0wdAGKRrup_A"
      },
      "source": [
        "train = pd.read_csv(LOCATION_CSV_TRAIN)\r\n",
        "test = pd.read_csv(LOCATION_CSV_TEST)"
      ],
      "execution_count": null,
      "outputs": []
    },
    {
      "cell_type": "markdown",
      "metadata": {
        "id": "odAzbOpXeW52"
      },
      "source": [
        "# Marking buoy ids found in the same year & day of year\r\n",
        "\r\n",
        "Increasing a counter to mark groups of elements respecting the conditions stated above.\r\n",
        "\r\n",
        "***Note***:\r\n",
        "\r\n",
        "*  We used both test and train becasue we noticed that their were days that appeared only in test. Otherwise t values wouldn't reflect the true counts.\r\n",
        "\r\n",
        "*  This will affect the split between validation and test if we won't account for the t values that came from test. We named those `bad_ts`"
      ]
    },
    {
      "cell_type": "code",
      "metadata": {
        "colab": {
          "base_uri": "https://localhost:8080/",
          "height": 362
        },
        "id": "Ib3wb2RuxUbz",
        "outputId": "6d4de5bf-0d8b-4b2e-9d65-60b5cbe93471"
      },
      "source": [
        "t = 0\r\n",
        "year_day_to_t = {}\r\n",
        "train['t'] = 0 \r\n",
        "test['t'] = 0\r\n",
        "for year in sorted(list(train.year.unique())):\r\n",
        "    for i in range(370):\r\n",
        "        good_date = False\r\n",
        "        if len(train[(train['year']==year) & (train['doy']==i)]) > 0:\r\n",
        "            train.loc[(train.year==year) & (train.doy==i), 't'] = t\r\n",
        "            good_date = True\r\n",
        "        if len(test[(test['year']==year) & (test['doy']==i)]) > 0:\r\n",
        "            test.loc[(test.year==year) & (test.doy==i), 't'] = t\r\n",
        "            good_date = True\r\n",
        "        if good_date:\r\n",
        "            year_day_to_t[(year, i)] = t\r\n",
        "            t += 1\r\n",
        "\r\n",
        "train.head(10)"
      ],
      "execution_count": null,
      "outputs": [
        {
          "output_type": "execute_result",
          "data": {
            "text/html": [
              "<div>\n",
              "<style scoped>\n",
              "    .dataframe tbody tr th:only-of-type {\n",
              "        vertical-align: middle;\n",
              "    }\n",
              "\n",
              "    .dataframe tbody tr th {\n",
              "        vertical-align: top;\n",
              "    }\n",
              "\n",
              "    .dataframe thead th {\n",
              "        text-align: right;\n",
              "    }\n",
              "</style>\n",
              "<table border=\"1\" class=\"dataframe\">\n",
              "  <thead>\n",
              "    <tr style=\"text-align: right;\">\n",
              "      <th></th>\n",
              "      <th>year</th>\n",
              "      <th>month</th>\n",
              "      <th>day</th>\n",
              "      <th>doy</th>\n",
              "      <th>x_EASE</th>\n",
              "      <th>y_EASE</th>\n",
              "      <th>u_buoy</th>\n",
              "      <th>v_buoy</th>\n",
              "      <th>id_buoy</th>\n",
              "      <th>u_ERA5</th>\n",
              "      <th>v_ERA5</th>\n",
              "      <th>sic_CDR</th>\n",
              "      <th>h_cs2smos</th>\n",
              "      <th>h_piomas</th>\n",
              "      <th>d2c</th>\n",
              "      <th>t</th>\n",
              "    </tr>\n",
              "  </thead>\n",
              "  <tbody>\n",
              "    <tr>\n",
              "      <th>0</th>\n",
              "      <td>1979</td>\n",
              "      <td>2</td>\n",
              "      <td>18</td>\n",
              "      <td>49</td>\n",
              "      <td>147.506958</td>\n",
              "      <td>138.582672</td>\n",
              "      <td>-0.797554</td>\n",
              "      <td>1.114740</td>\n",
              "      <td>1906</td>\n",
              "      <td>-6.704156</td>\n",
              "      <td>-0.321260</td>\n",
              "      <td>0.990195</td>\n",
              "      <td>NaN</td>\n",
              "      <td>3.189743</td>\n",
              "      <td>522.523298</td>\n",
              "      <td>0</td>\n",
              "    </tr>\n",
              "    <tr>\n",
              "      <th>1</th>\n",
              "      <td>1979</td>\n",
              "      <td>2</td>\n",
              "      <td>18</td>\n",
              "      <td>49</td>\n",
              "      <td>146.834778</td>\n",
              "      <td>120.509880</td>\n",
              "      <td>0.643200</td>\n",
              "      <td>0.368754</td>\n",
              "      <td>1913</td>\n",
              "      <td>-6.818630</td>\n",
              "      <td>-0.674205</td>\n",
              "      <td>0.966372</td>\n",
              "      <td>NaN</td>\n",
              "      <td>2.484009</td>\n",
              "      <td>412.767669</td>\n",
              "      <td>0</td>\n",
              "    </tr>\n",
              "    <tr>\n",
              "      <th>2</th>\n",
              "      <td>1979</td>\n",
              "      <td>2</td>\n",
              "      <td>18</td>\n",
              "      <td>49</td>\n",
              "      <td>130.993561</td>\n",
              "      <td>129.623672</td>\n",
              "      <td>-1.162420</td>\n",
              "      <td>0.243717</td>\n",
              "      <td>1914</td>\n",
              "      <td>-8.825469</td>\n",
              "      <td>1.123955</td>\n",
              "      <td>0.996022</td>\n",
              "      <td>NaN</td>\n",
              "      <td>2.474106</td>\n",
              "      <td>362.547379</td>\n",
              "      <td>0</td>\n",
              "    </tr>\n",
              "    <tr>\n",
              "      <th>3</th>\n",
              "      <td>1979</td>\n",
              "      <td>2</td>\n",
              "      <td>18</td>\n",
              "      <td>49</td>\n",
              "      <td>147.524719</td>\n",
              "      <td>157.382492</td>\n",
              "      <td>0.919766</td>\n",
              "      <td>0.025784</td>\n",
              "      <td>1918</td>\n",
              "      <td>-1.079951</td>\n",
              "      <td>-1.035410</td>\n",
              "      <td>0.982681</td>\n",
              "      <td>NaN</td>\n",
              "      <td>3.740522</td>\n",
              "      <td>381.025629</td>\n",
              "      <td>0</td>\n",
              "    </tr>\n",
              "    <tr>\n",
              "      <th>4</th>\n",
              "      <td>1979</td>\n",
              "      <td>2</td>\n",
              "      <td>19</td>\n",
              "      <td>50</td>\n",
              "      <td>147.470963</td>\n",
              "      <td>138.599823</td>\n",
              "      <td>0.380940</td>\n",
              "      <td>1.243485</td>\n",
              "      <td>1906</td>\n",
              "      <td>-2.169171</td>\n",
              "      <td>2.537787</td>\n",
              "      <td>0.990302</td>\n",
              "      <td>NaN</td>\n",
              "      <td>3.188522</td>\n",
              "      <td>521.535334</td>\n",
              "      <td>1</td>\n",
              "    </tr>\n",
              "    <tr>\n",
              "      <th>5</th>\n",
              "      <td>1979</td>\n",
              "      <td>2</td>\n",
              "      <td>19</td>\n",
              "      <td>50</td>\n",
              "      <td>180.349854</td>\n",
              "      <td>118.013527</td>\n",
              "      <td>1.387772</td>\n",
              "      <td>-0.253256</td>\n",
              "      <td>1911</td>\n",
              "      <td>2.680910</td>\n",
              "      <td>-0.295979</td>\n",
              "      <td>1.000000</td>\n",
              "      <td>NaN</td>\n",
              "      <td>2.574216</td>\n",
              "      <td>475.418633</td>\n",
              "      <td>1</td>\n",
              "    </tr>\n",
              "    <tr>\n",
              "      <th>6</th>\n",
              "      <td>1979</td>\n",
              "      <td>2</td>\n",
              "      <td>19</td>\n",
              "      <td>50</td>\n",
              "      <td>146.830490</td>\n",
              "      <td>120.509583</td>\n",
              "      <td>3.025445</td>\n",
              "      <td>1.076415</td>\n",
              "      <td>1913</td>\n",
              "      <td>0.551862</td>\n",
              "      <td>3.960332</td>\n",
              "      <td>1.000000</td>\n",
              "      <td>NaN</td>\n",
              "      <td>2.490376</td>\n",
              "      <td>412.761318</td>\n",
              "      <td>1</td>\n",
              "    </tr>\n",
              "    <tr>\n",
              "      <th>7</th>\n",
              "      <td>1979</td>\n",
              "      <td>2</td>\n",
              "      <td>19</td>\n",
              "      <td>50</td>\n",
              "      <td>130.940811</td>\n",
              "      <td>129.619873</td>\n",
              "      <td>1.409495</td>\n",
              "      <td>-0.041150</td>\n",
              "      <td>1914</td>\n",
              "      <td>-1.859920</td>\n",
              "      <td>1.140724</td>\n",
              "      <td>0.979121</td>\n",
              "      <td>NaN</td>\n",
              "      <td>2.480513</td>\n",
              "      <td>361.805709</td>\n",
              "      <td>1</td>\n",
              "    </tr>\n",
              "    <tr>\n",
              "      <th>8</th>\n",
              "      <td>1979</td>\n",
              "      <td>2</td>\n",
              "      <td>19</td>\n",
              "      <td>50</td>\n",
              "      <td>164.691742</td>\n",
              "      <td>110.154053</td>\n",
              "      <td>2.601760</td>\n",
              "      <td>2.154950</td>\n",
              "      <td>1925</td>\n",
              "      <td>1.245225</td>\n",
              "      <td>3.909907</td>\n",
              "      <td>0.992524</td>\n",
              "      <td>NaN</td>\n",
              "      <td>2.499613</td>\n",
              "      <td>404.686873</td>\n",
              "      <td>1</td>\n",
              "    </tr>\n",
              "    <tr>\n",
              "      <th>9</th>\n",
              "      <td>1979</td>\n",
              "      <td>2</td>\n",
              "      <td>20</td>\n",
              "      <td>51</td>\n",
              "      <td>197.865143</td>\n",
              "      <td>204.957596</td>\n",
              "      <td>-9.593610</td>\n",
              "      <td>-3.266865</td>\n",
              "      <td>1905</td>\n",
              "      <td>-2.742443</td>\n",
              "      <td>2.614781</td>\n",
              "      <td>0.964051</td>\n",
              "      <td>NaN</td>\n",
              "      <td>2.525601</td>\n",
              "      <td>367.538449</td>\n",
              "      <td>2</td>\n",
              "    </tr>\n",
              "  </tbody>\n",
              "</table>\n",
              "</div>"
            ],
            "text/plain": [
              "   year  month  day  doy  ...  h_cs2smos  h_piomas         d2c  t\n",
              "0  1979      2   18   49  ...        NaN  3.189743  522.523298  0\n",
              "1  1979      2   18   49  ...        NaN  2.484009  412.767669  0\n",
              "2  1979      2   18   49  ...        NaN  2.474106  362.547379  0\n",
              "3  1979      2   18   49  ...        NaN  3.740522  381.025629  0\n",
              "4  1979      2   19   50  ...        NaN  3.188522  521.535334  1\n",
              "5  1979      2   19   50  ...        NaN  2.574216  475.418633  1\n",
              "6  1979      2   19   50  ...        NaN  2.490376  412.761318  1\n",
              "7  1979      2   19   50  ...        NaN  2.480513  361.805709  1\n",
              "8  1979      2   19   50  ...        NaN  2.499613  404.686873  1\n",
              "9  1979      2   20   51  ...        NaN  2.525601  367.538449  2\n",
              "\n",
              "[10 rows x 16 columns]"
            ]
          },
          "metadata": {
            "tags": []
          },
          "execution_count": 5
        }
      ]
    },
    {
      "cell_type": "markdown",
      "metadata": {
        "id": "IhXOc-XOfLmB"
      },
      "source": [
        "# Mapping points to a grid of various sizes (e.g.: 64)\r\n",
        "\r\n",
        "We did try various values e.g. 128, 256 but we decided the best traid off between sparsity and size was at 64"
      ]
    },
    {
      "cell_type": "code",
      "metadata": {
        "id": "fibBDnJcvlY4"
      },
      "source": [
        "train['x_64'] = ((train.x_EASE * 64)/300).astype(int)\r\n",
        "train['y_64'] = ((train.y_EASE * 64)/300).astype(int)"
      ],
      "execution_count": null,
      "outputs": []
    },
    {
      "cell_type": "markdown",
      "metadata": {
        "id": "mg9e2lrQfhl3"
      },
      "source": [
        "# Counts the number of overlaps \r\n",
        "\r\n",
        "Finds out the number of overlapping points in a grid cell for every grid size dimension.\r\n",
        "\r\n",
        "We define an overlap when 2 data points have the same values for t, x_64 and y_64.\r\n"
      ]
    },
    {
      "cell_type": "code",
      "metadata": {
        "id": "KkW7a2kZHogT",
        "colab": {
          "base_uri": "https://localhost:8080/"
        },
        "outputId": "e0214645-acd1-47a3-d8c9-a700add2e7ac"
      },
      "source": [
        "threshold = 5\r\n",
        "train['overlap_64'] = train.groupby(['t', 'x_64', 'y_64']).t.transform(np.size)\r\n",
        "print(\"Overlap at 64 resolution \", len(train.loc[train.overlap_64 > threshold].t.unique()))"
      ],
      "execution_count": null,
      "outputs": [
        {
          "output_type": "stream",
          "text": [
            "Overlap at 64 resolution  1129\n"
          ],
          "name": "stdout"
        }
      ]
    },
    {
      "cell_type": "code",
      "metadata": {
        "colab": {
          "base_uri": "https://localhost:8080/",
          "height": 132
        },
        "id": "3Bf4YbblF8SE",
        "outputId": "3080c1e6-ddad-403c-a871-066bf5d22256"
      },
      "source": [
        "train.head(2)"
      ],
      "execution_count": null,
      "outputs": [
        {
          "output_type": "execute_result",
          "data": {
            "text/html": [
              "<div>\n",
              "<style scoped>\n",
              "    .dataframe tbody tr th:only-of-type {\n",
              "        vertical-align: middle;\n",
              "    }\n",
              "\n",
              "    .dataframe tbody tr th {\n",
              "        vertical-align: top;\n",
              "    }\n",
              "\n",
              "    .dataframe thead th {\n",
              "        text-align: right;\n",
              "    }\n",
              "</style>\n",
              "<table border=\"1\" class=\"dataframe\">\n",
              "  <thead>\n",
              "    <tr style=\"text-align: right;\">\n",
              "      <th></th>\n",
              "      <th>year</th>\n",
              "      <th>month</th>\n",
              "      <th>day</th>\n",
              "      <th>doy</th>\n",
              "      <th>x_EASE</th>\n",
              "      <th>y_EASE</th>\n",
              "      <th>u_buoy</th>\n",
              "      <th>v_buoy</th>\n",
              "      <th>id_buoy</th>\n",
              "      <th>u_ERA5</th>\n",
              "      <th>v_ERA5</th>\n",
              "      <th>sic_CDR</th>\n",
              "      <th>h_cs2smos</th>\n",
              "      <th>h_piomas</th>\n",
              "      <th>d2c</th>\n",
              "      <th>t</th>\n",
              "      <th>x_64</th>\n",
              "      <th>y_64</th>\n",
              "      <th>overlap_64</th>\n",
              "    </tr>\n",
              "  </thead>\n",
              "  <tbody>\n",
              "    <tr>\n",
              "      <th>0</th>\n",
              "      <td>1979</td>\n",
              "      <td>2</td>\n",
              "      <td>18</td>\n",
              "      <td>49</td>\n",
              "      <td>147.506958</td>\n",
              "      <td>138.582672</td>\n",
              "      <td>-0.797554</td>\n",
              "      <td>1.114740</td>\n",
              "      <td>1906</td>\n",
              "      <td>-6.704156</td>\n",
              "      <td>-0.321260</td>\n",
              "      <td>0.990195</td>\n",
              "      <td>NaN</td>\n",
              "      <td>3.189743</td>\n",
              "      <td>522.523298</td>\n",
              "      <td>0</td>\n",
              "      <td>31</td>\n",
              "      <td>29</td>\n",
              "      <td>1</td>\n",
              "    </tr>\n",
              "    <tr>\n",
              "      <th>1</th>\n",
              "      <td>1979</td>\n",
              "      <td>2</td>\n",
              "      <td>18</td>\n",
              "      <td>49</td>\n",
              "      <td>146.834778</td>\n",
              "      <td>120.509880</td>\n",
              "      <td>0.643200</td>\n",
              "      <td>0.368754</td>\n",
              "      <td>1913</td>\n",
              "      <td>-6.818630</td>\n",
              "      <td>-0.674205</td>\n",
              "      <td>0.966372</td>\n",
              "      <td>NaN</td>\n",
              "      <td>2.484009</td>\n",
              "      <td>412.767669</td>\n",
              "      <td>0</td>\n",
              "      <td>31</td>\n",
              "      <td>25</td>\n",
              "      <td>1</td>\n",
              "    </tr>\n",
              "  </tbody>\n",
              "</table>\n",
              "</div>"
            ],
            "text/plain": [
              "   year  month  day  doy      x_EASE  ...         d2c  t  x_64  y_64  overlap_64\n",
              "0  1979      2   18   49  147.506958  ...  522.523298  0    31    29           1\n",
              "1  1979      2   18   49  146.834778  ...  412.767669  0    31    25           1\n",
              "\n",
              "[2 rows x 19 columns]"
            ]
          },
          "metadata": {
            "tags": []
          },
          "execution_count": 8
        }
      ]
    },
    {
      "cell_type": "markdown",
      "metadata": {
        "id": "177LH4whf9xj"
      },
      "source": [
        "# Names of the columns we are interested in\r\n",
        "\r\n",
        "**List of features of interest**\r\n",
        "\r\n",
        "`year, doy, x_EASE, y_EASE, u_buoy, v_buoy, u_ERA5, v_ERA5, sic_CDR, h_piomas, d2c`\r\n",
        "\r\n"
      ]
    },
    {
      "cell_type": "code",
      "metadata": {
        "id": "h-3GGh0LkXdy"
      },
      "source": [
        "# used for scaling, creating the train and validation numpy \r\n",
        "good_columns = ['year', 'doy', 'x_EASE', 'y_EASE', 'u_buoy', 'v_buoy', 'u_ERA5', 'v_ERA5', 'sic_CDR', 'h_piomas', 'd2c']\r\n",
        "# used to get the second input that gets fead to network\r\n",
        "feature_2 = ['year', 'doy', 'x_EASE', 'y_EASE', 'u_ERA5', 'v_ERA5', 'sic_CDR', 'h_piomas', 'd2c']\r\n",
        "# y we try to regress towards\r\n",
        "outputs = ['u_buoy', 'v_buoy']"
      ],
      "execution_count": null,
      "outputs": []
    },
    {
      "cell_type": "markdown",
      "metadata": {
        "id": "Z4w9rCbAhquy"
      },
      "source": [
        "# Applies z-score for scaling the features"
      ]
    },
    {
      "cell_type": "code",
      "metadata": {
        "id": "5WqwT26ykYlW"
      },
      "source": [
        "column_norm = {}\r\n",
        "for col in good_columns:\r\n",
        "  column_norm[col] = {\r\n",
        "      'std': train[col].std(),\r\n",
        "      'mean': train[col].mean(),\r\n",
        "  }\r\n",
        "  train[col] = (train[col] - column_norm[col]['mean'])/column_norm[col]['std']"
      ],
      "execution_count": null,
      "outputs": []
    },
    {
      "cell_type": "code",
      "metadata": {
        "id": "KfLt-RVpCeRv"
      },
      "source": [
        "for col in good_columns:\r\n",
        "  test[col] = (test[col] - column_norm[col]['mean'])/column_norm[col]['std']"
      ],
      "execution_count": null,
      "outputs": []
    },
    {
      "cell_type": "markdown",
      "metadata": {
        "id": "PHx1atPQhxj2"
      },
      "source": [
        "# Creating the main dataset for training as a numpy array"
      ]
    },
    {
      "cell_type": "code",
      "metadata": {
        "colab": {
          "base_uri": "https://localhost:8080/"
        },
        "id": "s4k5pe_Z0f8L",
        "outputId": "b0a91dfa-eb4c-4af1-c757-a92acc3c94eb"
      },
      "source": [
        "GRID_SIZE = 64\r\n",
        "number_ts = train.t.max()\r\n",
        "print(f'Number of distinct t values found in dataset {number_ts}')\r\n",
        "train_data = np.zeros((number_ts + 1, GRID_SIZE, GRID_SIZE, len(good_columns)), dtype=np.float32)"
      ],
      "execution_count": null,
      "outputs": [
        {
          "output_type": "stream",
          "text": [
            "Number of distinct t values found in dataset 14590\n"
          ],
          "name": "stdout"
        }
      ]
    },
    {
      "cell_type": "code",
      "metadata": {
        "id": "sGAglHhA1Mw3"
      },
      "source": [
        "for t in range(train.t.max()):\r\n",
        "  t_train = train.loc[train.t == t]\r\n",
        "  for _, row in t_train.iterrows():\r\n",
        "    if row['overlap_64'] == 1:\r\n",
        "      train_data[int(t), int(row.x_64), int(row.y_64)] = row[good_columns].to_numpy()\r\n",
        "    else:\r\n",
        "      overlap = t_train.loc[(row.x_64 == t_train.x_64) & (row.y_64 == t_train.y_64)][good_columns].to_numpy()\r\n",
        "      train_data[int(t), int(row.x_64), int(row.y_64)] = np.average(overlap, axis=0)\r\n",
        "      "
      ],
      "execution_count": null,
      "outputs": []
    },
    {
      "cell_type": "code",
      "metadata": {
        "id": "xvyYEYAx5Iob",
        "colab": {
          "base_uri": "https://localhost:8080/"
        },
        "outputId": "e5df0381-57da-4b41-fe5b-26446043bdea"
      },
      "source": [
        "train_data.shape"
      ],
      "execution_count": null,
      "outputs": [
        {
          "output_type": "execute_result",
          "data": {
            "text/plain": [
              "(14591, 64, 64, 11)"
            ]
          },
          "metadata": {
            "tags": []
          },
          "execution_count": 13
        }
      ]
    },
    {
      "cell_type": "code",
      "metadata": {
        "id": "koWGuq_n5wSW"
      },
      "source": [
        "class CNNDataGenerator(tf.keras.utils.Sequence):\r\n",
        "    def __init__(self, dataset, dataframe, test_dataframe, batch_size=32, shuffle=False, indexes=None):\r\n",
        "        self.batch_size = batch_size\r\n",
        "        self.df = dataframe\r\n",
        "        self.t_max = dataframe.t.max()\r\n",
        "        self.dataset = dataset\r\n",
        "        self.test_df = test_dataframe\r\n",
        "        if not indexes:\r\n",
        "          self.indices = range(len(test_dataframe))\r\n",
        "        else:\r\n",
        "          self.indices = indexes\r\n",
        "        self.shuffle = shuffle\r\n",
        "        self.on_epoch_end()\r\n",
        "\r\n",
        "    def __len__(self):\r\n",
        "        return (len(self.indices) // self.batch_size) + 1\r\n",
        "\r\n",
        "    def __getitem__(self, index):\r\n",
        "        index = self.index[index * self.batch_size:(index + 1) * self.batch_size]\r\n",
        "        batch = [self.indices[k] for k in index]\r\n",
        "        \r\n",
        "        X = self.__get_data(batch)\r\n",
        "        return X\r\n",
        "\r\n",
        "    def on_epoch_end(self):\r\n",
        "        self.index = np.arange(len(self.indices))\r\n",
        "        if self.shuffle == True:\r\n",
        "            np.random.shuffle(self.index)\r\n",
        "\r\n",
        "    def __get_data(self, batch):\r\n",
        "        x1 = np.zeros((len(batch), 64, 64, 11), dtype=np.float32)\r\n",
        "        x2 = np.zeros((len(batch), len(feature_2)), dtype=np.float32)\r\n",
        "       \r\n",
        "        for i, id in enumerate(batch):\r\n",
        "          test_sample = self.test_df.iloc[id]\r\n",
        "          x2[i] = test_sample[feature_2].to_numpy()\r\n",
        "          state_t = test_sample.t\r\n",
        "          if not test_sample.t in self.df.t:\r\n",
        "            if test_sample.t + 1 in self.df.t:\r\n",
        "              state_t += 1\r\n",
        "            elif test_sample.t - 1 in self.df.t:\r\n",
        "              state_t -= 1\r\n",
        "            else:\r\n",
        "              continue\r\n",
        "          tvalues = self.df.loc[self.df.t == state_t]\r\n",
        "          x1[i] = self.dataset[int(state_t)]\r\n",
        "\r\n",
        "        return [x1, x2]"
      ],
      "execution_count": null,
      "outputs": []
    },
    {
      "cell_type": "markdown",
      "metadata": {
        "id": "b14yIXTMjcQg"
      },
      "source": [
        "# Loading CNN models and using them to predict"
      ]
    },
    {
      "cell_type": "code",
      "metadata": {
        "id": "-uVssrPrBGv5"
      },
      "source": [
        "cnn_model = tf.keras.models.load_model(\"/content/gdrive/My Drive/Colab Notebooks/models/sea_ice_cnn_all\")"
      ],
      "execution_count": null,
      "outputs": []
    },
    {
      "cell_type": "markdown",
      "metadata": {
        "id": "cmaZ7KZ6Ikql"
      },
      "source": [
        ""
      ]
    },
    {
      "cell_type": "code",
      "metadata": {
        "id": "WCh0j2tlB6Qk",
        "colab": {
          "base_uri": "https://localhost:8080/"
        },
        "outputId": "2798996c-d459-4cb9-b484-99228750a650"
      },
      "source": [
        "cnn_model.summary()"
      ],
      "execution_count": null,
      "outputs": [
        {
          "output_type": "stream",
          "text": [
            "Model: \"model_3\"\n",
            "__________________________________________________________________________________________________\n",
            "Layer (type)                    Output Shape         Param #     Connected to                     \n",
            "==================================================================================================\n",
            "input_7 (InputLayer)            [(None, 64, 64, 11)] 0                                            \n",
            "__________________________________________________________________________________________________\n",
            "conv2d_12 (Conv2D)              (None, 49, 49, 32)   90144       input_7[0][0]                    \n",
            "__________________________________________________________________________________________________\n",
            "max_pooling2d_9 (MaxPooling2D)  (None, 24, 24, 32)   0           conv2d_12[0][0]                  \n",
            "__________________________________________________________________________________________________\n",
            "batch_normalization_12 (BatchNo (None, 24, 24, 32)   128         max_pooling2d_9[0][0]            \n",
            "__________________________________________________________________________________________________\n",
            "dropout_12 (Dropout)            (None, 24, 24, 32)   0           batch_normalization_12[0][0]     \n",
            "__________________________________________________________________________________________________\n",
            "conv2d_13 (Conv2D)              (None, 21, 21, 64)   32832       dropout_12[0][0]                 \n",
            "__________________________________________________________________________________________________\n",
            "max_pooling2d_10 (MaxPooling2D) (None, 10, 10, 64)   0           conv2d_13[0][0]                  \n",
            "__________________________________________________________________________________________________\n",
            "batch_normalization_13 (BatchNo (None, 10, 10, 64)   256         max_pooling2d_10[0][0]           \n",
            "__________________________________________________________________________________________________\n",
            "dropout_13 (Dropout)            (None, 10, 10, 64)   0           batch_normalization_13[0][0]     \n",
            "__________________________________________________________________________________________________\n",
            "conv2d_14 (Conv2D)              (None, 8, 8, 64)     36928       dropout_13[0][0]                 \n",
            "__________________________________________________________________________________________________\n",
            "max_pooling2d_11 (MaxPooling2D) (None, 4, 4, 64)     0           conv2d_14[0][0]                  \n",
            "__________________________________________________________________________________________________\n",
            "batch_normalization_14 (BatchNo (None, 4, 4, 64)     256         max_pooling2d_11[0][0]           \n",
            "__________________________________________________________________________________________________\n",
            "dropout_14 (Dropout)            (None, 4, 4, 64)     0           batch_normalization_14[0][0]     \n",
            "__________________________________________________________________________________________________\n",
            "flatten_3 (Flatten)             (None, 1024)         0           dropout_14[0][0]                 \n",
            "__________________________________________________________________________________________________\n",
            "input_8 (InputLayer)            [(None, 9)]          0                                            \n",
            "__________________________________________________________________________________________________\n",
            "dense_11 (Dense)                (None, 64)           65600       flatten_3[0][0]                  \n",
            "__________________________________________________________________________________________________\n",
            "dense_12 (Dense)                (None, 64)           640         input_8[0][0]                    \n",
            "__________________________________________________________________________________________________\n",
            "concatenate_3 (Concatenate)     (None, 128)          0           dense_11[0][0]                   \n",
            "                                                                 dense_12[0][0]                   \n",
            "__________________________________________________________________________________________________\n",
            "dense_13 (Dense)                (None, 64)           8256        concatenate_3[0][0]              \n",
            "__________________________________________________________________________________________________\n",
            "dense_14 (Dense)                (None, 2)            130         dense_13[0][0]                   \n",
            "==================================================================================================\n",
            "Total params: 235,170\n",
            "Trainable params: 234,850\n",
            "Non-trainable params: 320\n",
            "__________________________________________________________________________________________________\n"
          ],
          "name": "stdout"
        }
      ]
    },
    {
      "cell_type": "markdown",
      "metadata": {
        "id": "FR5RGWoRd0G5"
      },
      "source": [
        "Calling the generators one for each split based on the indexes determined above"
      ]
    },
    {
      "cell_type": "code",
      "metadata": {
        "id": "_7KpxvzVdvfa",
        "colab": {
          "base_uri": "https://localhost:8080/"
        },
        "outputId": "63abd598-a974-45e8-c26f-f6782abb4f20"
      },
      "source": [
        "cnn_data_gen = CNNDataGenerator(train_data, train, test, batch_size=128)\r\n",
        "len(cnn_data_gen)"
      ],
      "execution_count": null,
      "outputs": [
        {
          "output_type": "execute_result",
          "data": {
            "text/plain": [
              "664"
            ]
          },
          "metadata": {
            "tags": []
          },
          "execution_count": 43
        }
      ]
    },
    {
      "cell_type": "code",
      "metadata": {
        "id": "bwfUqF9HshB6",
        "colab": {
          "base_uri": "https://localhost:8080/"
        },
        "outputId": "1d9dc0ff-c1cd-4596-cb01-1ef821495a14"
      },
      "source": [
        "predictions = cnn_model.predict(cnn_data_gen)\r\n",
        "predictions.shape"
      ],
      "execution_count": null,
      "outputs": [
        {
          "output_type": "execute_result",
          "data": {
            "text/plain": [
              "(84870, 2)"
            ]
          },
          "metadata": {
            "tags": []
          },
          "execution_count": 44
        }
      ]
    },
    {
      "cell_type": "code",
      "metadata": {
        "id": "K3frve4zGLw8"
      },
      "source": [
        "cnn_prediction_df = pd.DataFrame(data=predictions, columns=[\"u_buoy\", \"v_buoy\"], index=None)\r\n",
        "cnn_prediction_df.to_csv(\"/content/gdrive/My Drive/Colab Notebooks/predictions/cnn_predictions_norm.csv\", index=None)"
      ],
      "execution_count": null,
      "outputs": []
    },
    {
      "cell_type": "code",
      "metadata": {
        "id": "lP3aCt_wHjwC"
      },
      "source": [
        "cnn_prediction_df[\"u_buoy\"] = cnn_prediction_df[\"u_buoy\"] * column_norm[\"u_buoy\"]['std'] + column_norm[\"u_buoy\"]['mean']\r\n",
        "cnn_prediction_df[\"v_buoy\"] = cnn_prediction_df[\"v_buoy\"] * column_norm[\"v_buoy\"]['std'] + column_norm[\"v_buoy\"]['mean']\r\n",
        "cnn_prediction_df.to_csv(\"/content/gdrive/My Drive/Colab Notebooks/predictions/cnn_predictions.csv\", index=None)"
      ],
      "execution_count": null,
      "outputs": []
    },
    {
      "cell_type": "code",
      "metadata": {
        "id": "h2VQkSLnJN8w"
      },
      "source": [
        ""
      ],
      "execution_count": null,
      "outputs": []
    },
    {
      "cell_type": "markdown",
      "metadata": {
        "id": "t3saCNz-ImPo"
      },
      "source": [
        "# Autoencoder"
      ]
    },
    {
      "cell_type": "code",
      "metadata": {
        "id": "8QQqUUruJOtK"
      },
      "source": [
        "def custom_mse(y_true, y_pred):\r\n",
        "  mask = tf.not_equal(y_true, np.zeros((11), dtype=np.float32))\r\n",
        "  y_true_masked = tf.boolean_mask(y_true, mask) \r\n",
        "  y_pred_masked = tf.boolean_mask(y_pred, mask)\r\n",
        "  return tf.keras.losses.MSE(y_true=y_true_masked, y_pred=y_pred_masked)"
      ],
      "execution_count": null,
      "outputs": []
    },
    {
      "cell_type": "code",
      "metadata": {
        "colab": {
          "base_uri": "https://localhost:8080/"
        },
        "id": "yzm7magnJKEB",
        "outputId": "288a394f-5df5-4f5f-a714-57d5d01ae229"
      },
      "source": [
        "all_predictions = []\r\n",
        "nd_batchsize = 5000\r\n",
        "import gc\r\n",
        "gc.collect()\r\n",
        "for i in range(0, len(test), nd_batchsize):\r\n",
        "  print (i)\r\n",
        "  end = i+nd_batchsize\r\n",
        "  if end > len(test):\r\n",
        "    end = len(test)\r\n",
        "  curr = range(i,end)\r\n",
        "  print(len(curr))\r\n",
        "  cnn_model = None\r\n",
        "  ae_model = None \r\n",
        "  ae_data_gen = None\r\n",
        "  gc.collect()\r\n",
        "\r\n",
        "  ae_model = tf.keras.models.load_model(\"/content/gdrive/My Drive/Colab Notebooks/models/sea_ice_ae_cnn_all\", custom_objects={'custom_mse': custom_mse})\r\n",
        "  ae_data_gen = CNNDataGenerator(train_data, train, test, batch_size=64, indexes=curr)\r\n",
        "  predictions_ae = ae_model.predict(ae_data_gen)\r\n",
        "  \r\n",
        "  with open('/content/gdrive/My Drive/Colab Notebooks/predictions/ae_pred_{}.npy'.format(i), 'wb') as f:\r\n",
        "    np.save(f, predictions_ae[0])\r\n",
        "  all_predictions.append(predictions_ae[0])\r\n"
      ],
      "execution_count": null,
      "outputs": [
        {
          "output_type": "stream",
          "text": [
            "0\n",
            "5000\n",
            "5000\n",
            "5000\n",
            "10000\n",
            "5000\n",
            "15000\n",
            "5000\n",
            "20000\n",
            "5000\n",
            "25000\n",
            "5000\n",
            "30000\n",
            "5000\n",
            "35000\n",
            "5000\n",
            "40000\n",
            "5000\n",
            "45000\n",
            "5000\n",
            "50000\n",
            "5000\n",
            "55000\n",
            "5000\n",
            "60000\n",
            "5000\n",
            "65000\n",
            "5000\n",
            "70000\n",
            "5000\n"
          ],
          "name": "stdout"
        }
      ]
    },
    {
      "cell_type": "code",
      "metadata": {
        "colab": {
          "base_uri": "https://localhost:8080/"
        },
        "id": "fjkiSAI4e3WP",
        "outputId": "9bd5af1e-dafb-4e43-c6aa-5677d86a4d36"
      },
      "source": [
        "prediction_np = np.concatenate(all_predictions)\r\n",
        "prediction_np.shape"
      ],
      "execution_count": null,
      "outputs": [
        {
          "output_type": "execute_result",
          "data": {
            "text/plain": [
              "(84736, 2)"
            ]
          },
          "metadata": {
            "tags": []
          },
          "execution_count": 25
        }
      ]
    },
    {
      "cell_type": "code",
      "metadata": {
        "colab": {
          "base_uri": "https://localhost:8080/"
        },
        "id": "fRPLaXNufqPF",
        "outputId": "4b678520-6dfd-4507-afe6-fd922d02f575"
      },
      "source": [
        "len(test)"
      ],
      "execution_count": null,
      "outputs": [
        {
          "output_type": "execute_result",
          "data": {
            "text/plain": [
              "84870"
            ]
          },
          "metadata": {
            "tags": []
          },
          "execution_count": 27
        }
      ]
    },
    {
      "cell_type": "code",
      "metadata": {
        "id": "uEPFdBFTJH7T"
      },
      "source": [
        "ae_prediction_df = pd.DataFrame(data=ae_predictions[:,0], columns=[\"u_buoy\", \"v_buoy\"], index=None)\r\n",
        "ae_prediction_df.to_csv(\"/content/gdrive/My Drive/Colab Notebooks/predictions/ae_predictions_norm.csv\", index=None)\r\n",
        "ae_prediction_df[\"u_buoy\"] = ae_prediction_df[\"u_buoy\"] * column_norm[\"u_buoy\"]['std'] + column_norm[\"u_buoy\"]['mean']\r\n",
        "ae_prediction_df[\"v_buoy\"] = ae_prediction_df[\"v_buoy\"] * column_norm[\"v_buoy\"]['std'] + column_norm[\"v_buoy\"]['mean']\r\n",
        "ae_prediction_df.to_csv(\"/content/gdrive/My Drive/Colab Notebooks/predictions/ae_predictions.csv\", index=None)"
      ],
      "execution_count": null,
      "outputs": []
    },
    {
      "cell_type": "markdown",
      "metadata": {
        "id": "Daq10I37LLRz"
      },
      "source": [
        "# Dense Network"
      ]
    },
    {
      "cell_type": "code",
      "metadata": {
        "id": "T-GqZqMCLOGI"
      },
      "source": [
        "class DenseDataGenerator(tf.keras.utils.Sequence):\r\n",
        "    def __init__(self, dataframe, test_dataframe, batch_size=32, shuffle=False):\r\n",
        "        self.batch_size = batch_size\r\n",
        "        self.df = dataframe\r\n",
        "        self.t_max = dataframe.t.max()\r\n",
        "        self.test_df = test_dataframe\r\n",
        "        self.indices = range(len(test_dataframe))\r\n",
        "        self.shuffle = shuffle\r\n",
        "        self.on_epoch_end()\r\n",
        "        self.max_t_count = dataframe.groupby('t')['id_buoy'].count().max()\r\n",
        "\r\n",
        "    def __len__(self):\r\n",
        "        return (len(self.indices) // self.batch_size) + 1\r\n",
        "\r\n",
        "    def __getitem__(self, index):\r\n",
        "        index = self.index[index * self.batch_size:(index + 1) * self.batch_size]\r\n",
        "        batch = [self.indices[k] for k in index]\r\n",
        "        \r\n",
        "        X = self.__get_data(batch)\r\n",
        "        return X\r\n",
        "\r\n",
        "    def on_epoch_end(self):\r\n",
        "        self.index = np.arange(len(self.indices))\r\n",
        "        if self.shuffle == True:\r\n",
        "            np.random.shuffle(self.index)\r\n",
        "\r\n",
        "    def __get_data(self, batch):\r\n",
        "        x1 = np.zeros((len(batch), self.max_t_count, len(good_columns)), dtype=np.float32)\r\n",
        "        x2 = np.zeros((len(batch_size), len(feature_2)), dtype=np.float32)\r\n",
        "       \r\n",
        "        for i, id in enumerate(batch):\r\n",
        "          test_sample = self.test_df.iloc[id]\r\n",
        "          x2[i] = test_sample[feature_2].to_numpy()\r\n",
        "          state_t = test_sample.t\r\n",
        "          x = np.zeros((self.max_t_count, len(good_columns)), dtype=np.float32)\r\n",
        "          if not test_sample.t in self.df.t:\r\n",
        "            if test_sample.t + 1 in self.df.t:\r\n",
        "              state_t += 1\r\n",
        "            elif test_sample.t - 1 in self.df.t:\r\n",
        "              state_t -= 1\r\n",
        "            else:\r\n",
        "              continue\r\n",
        "          tvalues = self.df.loc[self.df.t == state_t]\r\n",
        "          x_np = tvalues[good_columns].to_numpy()\r\n",
        "          x[:x_np.shape[0],:x_np.shape[1]] = x_np\r\n",
        "          x1[i] = x\r\n",
        "\r\n",
        "        return [x1, x2]\r\n"
      ],
      "execution_count": null,
      "outputs": []
    },
    {
      "cell_type": "code",
      "metadata": {
        "id": "E1uXCULzM6ai"
      },
      "source": [
        "cnn_model = None\r\n",
        "ae_model = None\r\n",
        "dense_model = tf.keras.models.load_model(\"/content/gdrive/My Drive/Colab Notebooks/models/sea_ice_naive_perm_60_all\")\r\n",
        "dense_model_data_gen = DenseDataGenerator(train, test, batch_size=128)"
      ],
      "execution_count": null,
      "outputs": []
    },
    {
      "cell_type": "code",
      "metadata": {
        "colab": {
          "base_uri": "https://localhost:8080/"
        },
        "id": "zgajvsHINcml",
        "outputId": "defe384f-f153-4a0f-ecbb-9e02294ea52e"
      },
      "source": [
        "dense_predictions = dense_model.predict(dense_model_data_gen)\r\n",
        "dense_predictions.shape 84736"
      ],
      "execution_count": null,
      "outputs": [
        {
          "output_type": "execute_result",
          "data": {
            "text/plain": [
              "(84864, 2)"
            ]
          },
          "metadata": {
            "tags": []
          },
          "execution_count": 75
        }
      ]
    },
    {
      "cell_type": "code",
      "metadata": {
        "id": "fL8fbUQqNoVn"
      },
      "source": [
        "dense_prediction_df = pd.DataFrame(data=dense_predictions, columns=[\"u_buoy\", \"v_buoy\"], index=None)\r\n",
        "dense_prediction_df.to_csv(\"/content/gdrive/My Drive/Colab Notebooks/predictions/dense_predictions_norm.csv\", index=None)\r\n",
        "dense_prediction_df[\"u_buoy\"] = dense_prediction_df[\"u_buoy\"] * column_norm[\"u_buoy\"]['std'] + column_norm[\"u_buoy\"]['mean']\r\n",
        "dense_prediction_df[\"v_buoy\"] = dense_prediction_df[\"v_buoy\"] * column_norm[\"v_buoy\"]['std'] + column_norm[\"v_buoy\"]['mean']\r\n",
        "dense_prediction_df.to_csv(\"/content/gdrive/My Drive/Colab Notebooks/predictions/dense_predictions.csv\", index=None)"
      ],
      "execution_count": null,
      "outputs": []
    }
  ]
}